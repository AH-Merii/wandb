{
 "cells": [
  {
   "cell_type": "code",
   "execution_count": 1,
   "id": "68989f30-8a2a-4d8d-8d5a-4d283877d163",
   "metadata": {},
   "source": [
    "from rich.pretty import pprint\n",
    "from rich import print\n",
    "\n",
    "from wandb.sdk import automations\n",
    "from wandb.sdk.automations import scopes, events, actions, make_table\n",
    "from wandb import Api"
   ],
   "outputs": []
  },
  {
   "cell_type": "markdown",
   "id": "134ecc22-7fe4-40e6-b104-3af29ec670c8",
   "metadata": {},
   "source": [
    "## Getting (reading) existing automations"
   ]
  },
  {
   "cell_type": "code",
   "execution_count": 5,
   "id": "dcfe1acb-2538-46ae-8c06-a5e3f3ffd34c",
   "metadata": {},
   "source": [
    "triggers = automations.get_all()"
   ],
   "outputs": []
  },
  {
   "cell_type": "markdown",
   "id": "16b7ba25-db48-49ff-a3eb-8c70b2817222",
   "metadata": {},
   "source": [
    "Display the first and last few automations"
   ]
  },
  {
   "cell_type": "code",
   "execution_count": 6,
   "id": "d072ab9b-dd70-464b-a1ac-01a09591350b",
   "metadata": {},
   "source": [
    "first_rows = make_table(triggers[:3])\n",
    "print(first_rows)"
   ],
   "outputs": []
  },
  {
   "cell_type": "code",
   "execution_count": 7,
   "id": "db2721ef-fa25-4045-9863-ff4035a54087",
   "metadata": {},
   "source": [
    "last_rows = make_table(triggers[-3:])\n",
    "print(last_rows)"
   ],
   "outputs": []
  },
  {
   "cell_type": "markdown",
   "id": "58e7b6e0-f884-4e35-9aac-7d8895c96fb3",
   "metadata": {},
   "source": [
    "Inspecting a single automation"
   ]
  },
  {
   "cell_type": "code",
   "execution_count": 8,
   "id": "164c39d9-0260-4a7f-9bf2-0503c232200f",
   "metadata": {},
   "source": [
    "pprint(triggers[0])"
   ],
   "outputs": []
  },
  {
   "cell_type": "markdown",
   "id": "a1b9e491-4f8e-47bc-b3cb-fe28781340cc",
   "metadata": {},
   "source": [
    "## Defining a new automation"
   ]
  },
  {
   "cell_type": "code",
   "execution_count": 9,
   "id": "b6da29f9-4476-4d05-960e-f2416bbf5b46",
   "metadata": {},
   "source": [
    "api = Api()"
   ],
   "outputs": []
  },
  {
   "cell_type": "markdown",
   "id": "bd60b963-7b2b-41f8-b302-7f6e8c4015e9",
   "metadata": {},
   "source": [
    "Let's fetch an artifact collection that I created, via the API.\n",
    "\n",
    "In the UI, the actual overview page for the artifact collection is here: [link](https://wandb.ai/registry/dataset?selectionPath=artifact-tags-demo-org%2Fwandb-registry-dataset%2Fbest-data&view=versions)."
   ]
  },
  {
   "cell_type": "code",
   "execution_count": 18,
   "id": "5cfd7b03-a174-4db5-a273-6bb933c80c38",
   "metadata": {},
   "source": [
    "my_collection = api.artifact_collection(\n",
    "    type_name=\"dataset\", \n",
    "    name=\"artifact-tags-demo-org/wandb-registry-dataset/best-data\"\n",
    ")"
   ],
   "outputs": []
  },
  {
   "cell_type": "code",
   "execution_count": 19,
   "id": "6cc5c500-9efb-404a-88dc-cf287d49273a",
   "metadata": {},
   "source": [
    "pprint(my_collection)"
   ],
   "outputs": []
  },
  {
   "cell_type": "markdown",
   "id": "2ad187ee-340f-4332-9eb5-e498772967ca",
   "metadata": {},
   "source": [
    "Before this, I already set up Slack integration on my [user settings page](https://wandb.ai/settings).  Note: this'll be different than setting up Slack integration for a team, but for the moment it'll do."
   ]
  },
  {
   "cell_type": "markdown",
   "id": "9f2d7838-2a1b-4a41-9823-530d0f253a59",
   "metadata": {},
   "source": [
    "### Define the (triggering) event -- i.e. an artifact is linked to my collection"
   ]
  },
  {
   "cell_type": "code",
   "execution_count": 22,
   "id": "25ad8278-564f-4243-9e68-de14ccb71716",
   "metadata": {},
   "source": [
    "event = events.LinkArtifact(scope=my_collection)\n",
    "\n",
    "# OR -- Alternative syntax (not final)\n",
    "event = automations.on(events.LINK_ARTIFACT, scope=my_collection)"
   ],
   "outputs": []
  },
  {
   "cell_type": "markdown",
   "id": "ca3518dd-7e0e-4504-8655-cc0a95a16d40",
   "metadata": {},
   "source": [
    "### Define the (triggered) action -- i.e. send a Slack message\n",
    "\n",
    "Under the hood, the SDK checks if I have an existing Slack integration.  It'll fail, with a link to the settings page in the message, if appropriate."
   ]
  },
  {
   "cell_type": "code",
   "execution_count": 27,
   "id": "806cc3d0-1ee5-43d2-b05a-00300f3eb3e0",
   "metadata": {},
   "source": [
    "action = actions.NewNotification(\n",
    "    title=\"Artifact linked!\",\n",
    "    message=\"SDK-defined automation successful\",\n",
    "    severity=\"INFO\",\n",
    ")"
   ],
   "outputs": []
  },
  {
   "cell_type": "markdown",
   "id": "d598e2c7-fe41-483b-9cca-28af478807c2",
   "metadata": {},
   "source": [
    "### Define the automation by linking the event to the action"
   ]
  },
  {
   "cell_type": "code",
   "execution_count": 36,
   "id": "9ec5f9b8-6cfb-4842-bd36-1054d299ce68",
   "metadata": {},
   "source": [
    "new_automation = automations.define(\n",
    "    event >> action,\n",
    "    name=\"Testing programmatic automations API\",\n",
    "    description=\"who knows if this will work\",\n",
    ")"
   ],
   "outputs": []
  },
  {
   "cell_type": "markdown",
   "id": "e1c919b7-1f91-4f42-b2df-381cb93c8cdb",
   "metadata": {},
   "source": [
    "The new automation, which hasn't yet been saved to the W&B server, looks like:"
   ]
  },
  {
   "cell_type": "code",
   "execution_count": 37,
   "id": "556e5c25-659f-44a1-98a7-80084be5f923",
   "metadata": {},
   "source": [
    "pprint(new_automation)"
   ],
   "outputs": []
  },
  {
   "cell_type": "markdown",
   "id": "2efadccd-4384-4758-96b9-e2739e71127b",
   "metadata": {},
   "source": [
    "To finally save the new automation, we'd run (note this may not work in all cases -- still WIP):"
   ]
  },
  {
   "cell_type": "code",
   "execution_count": null,
   "id": "55c2fedf-d6b7-4e4e-b300-bb7cf3130657",
   "metadata": {},
   "source": [
    "created_automation = automations.create(new_automation)"
   ],
   "outputs": []
  },
  {
   "cell_type": "code",
   "execution_count": 35,
   "id": "689292af-def8-412b-9175-98bf294bba13",
   "metadata": {},
   "source": [
    "pprint(created_automation)"
   ],
   "outputs": []
  },
  {
   "cell_type": "code",
   "execution_count": null,
   "id": "14694c2d-04ee-4af7-a1df-01dba54bb634",
   "metadata": {},
   "source": [],
   "outputs": []
  }
 ],
 "metadata": {
  "kernelspec": {
   "display_name": "Python 3 (ipykernel)",
   "language": "python",
   "name": "python3"
  },
  "language_info": {
   "codemirror_mode": {
    "name": "ipython",
    "version": 3
   },
   "file_extension": ".py",
   "mimetype": "text/x-python",
   "name": "python",
   "nbconvert_exporter": "python",
   "pygments_lexer": "ipython3",
   "version": "3.11.9"
  }
 },
 "nbformat": 4,
 "nbformat_minor": 5
}
